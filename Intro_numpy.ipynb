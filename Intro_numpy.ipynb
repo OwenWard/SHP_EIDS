{
  "nbformat": 4,
  "nbformat_minor": 0,
  "metadata": {
    "colab": {
      "name": "Intro_numpy.ipynb",
      "provenance": [],
      "include_colab_link": true
    },
    "kernelspec": {
      "name": "python3",
      "display_name": "Python 3"
    }
  },
  "cells": [
    {
      "cell_type": "markdown",
      "metadata": {
        "id": "view-in-github",
        "colab_type": "text"
      },
      "source": [
        "<a href=\"https://colab.research.google.com/github/lydiahsu/SHP_Fall_2019/blob/master/Intro_numpy.ipynb\" target=\"_parent\"><img src=\"https://colab.research.google.com/assets/colab-badge.svg\" alt=\"Open In Colab\"/></a>"
      ]
    },
    {
      "cell_type": "code",
      "metadata": {
        "id": "4zEBnbpHz2Ov",
        "colab_type": "code",
        "colab": {}
      },
      "source": [
        "import numpy as np"
      ],
      "execution_count": 0,
      "outputs": []
    },
    {
      "cell_type": "markdown",
      "metadata": {
        "id": "gUkJ4w8jz8Qc",
        "colab_type": "text"
      },
      "source": [
        "# The Basics"
      ]
    },
    {
      "cell_type": "code",
      "metadata": {
        "id": "WSmr3Eciz-Ez",
        "colab_type": "code",
        "colab": {}
      },
      "source": [
        "a = np.array([1,2,3], dtype='int32')\n",
        "print(a)"
      ],
      "execution_count": 0,
      "outputs": []
    },
    {
      "cell_type": "code",
      "metadata": {
        "id": "ubkbrIdWz_1y",
        "colab_type": "code",
        "colab": {}
      },
      "source": [
        "b = np.array([[9.0,8.0,7.0],[6.0,5.0,4.0]])\n",
        "print(b)"
      ],
      "execution_count": 0,
      "outputs": []
    },
    {
      "cell_type": "code",
      "metadata": {
        "id": "w0t0DdUn0Arq",
        "colab_type": "code",
        "colab": {}
      },
      "source": [
        "# Get Dimension\n",
        "a.ndim"
      ],
      "execution_count": 0,
      "outputs": []
    },
    {
      "cell_type": "code",
      "metadata": {
        "id": "NP3G-9is0C9a",
        "colab_type": "code",
        "colab": {}
      },
      "source": [
        "# Get Shape\n",
        "b.shape"
      ],
      "execution_count": 0,
      "outputs": []
    },
    {
      "cell_type": "code",
      "metadata": {
        "id": "bMtuA4QN0EmS",
        "colab_type": "code",
        "colab": {}
      },
      "source": [
        "# Get Type\n",
        "a.dtype"
      ],
      "execution_count": 0,
      "outputs": []
    },
    {
      "cell_type": "code",
      "metadata": {
        "id": "PAkz6BLc0Gab",
        "colab_type": "code",
        "colab": {}
      },
      "source": [
        "# Get Size\n",
        "a.itemsize"
      ],
      "execution_count": 0,
      "outputs": []
    },
    {
      "cell_type": "code",
      "metadata": {
        "id": "KYsfi2SR0IIT",
        "colab_type": "code",
        "colab": {}
      },
      "source": [
        "# Get total size\n",
        "a.nbytes"
      ],
      "execution_count": 0,
      "outputs": []
    },
    {
      "cell_type": "code",
      "metadata": {
        "id": "DOHAEK520JvL",
        "colab_type": "code",
        "colab": {}
      },
      "source": [
        "# Get number of elements\n",
        "a.size"
      ],
      "execution_count": 0,
      "outputs": []
    },
    {
      "cell_type": "markdown",
      "metadata": {
        "id": "F-Hu5VMx0LM0",
        "colab_type": "text"
      },
      "source": [
        "# Accessing/Changing specific elements, rows, columns, etc"
      ]
    },
    {
      "cell_type": "code",
      "metadata": {
        "id": "I2It_Cwq0RBg",
        "colab_type": "code",
        "colab": {}
      },
      "source": [
        "a = np.array([[1,2,3,4,5,6,7],[8,9,10,11,12,13,14]])\n",
        "print(a)"
      ],
      "execution_count": 0,
      "outputs": []
    },
    {
      "cell_type": "code",
      "metadata": {
        "id": "KN66JKgK0NoT",
        "colab_type": "code",
        "colab": {}
      },
      "source": [
        "# Get a specific element [r, c]\n",
        "a[1, 5]"
      ],
      "execution_count": 0,
      "outputs": []
    },
    {
      "cell_type": "code",
      "metadata": {
        "id": "K116tiuK0Tmr",
        "colab_type": "code",
        "colab": {}
      },
      "source": [
        "# Get a specific row \n",
        "a[0, :]"
      ],
      "execution_count": 0,
      "outputs": []
    },
    {
      "cell_type": "code",
      "metadata": {
        "id": "lbqYF8Xy0Vjc",
        "colab_type": "code",
        "colab": {}
      },
      "source": [
        "# Get a specific column\n",
        "a[:, 2]"
      ],
      "execution_count": 0,
      "outputs": []
    },
    {
      "cell_type": "code",
      "metadata": {
        "id": "FUG-IcRl0XYE",
        "colab_type": "code",
        "colab": {}
      },
      "source": [
        "# Getting a little more fancy [startindex:endindex:stepsize]\n",
        "a[0, 1:-1:2]"
      ],
      "execution_count": 0,
      "outputs": []
    },
    {
      "cell_type": "code",
      "metadata": {
        "id": "5P7B25ID0ZTc",
        "colab_type": "code",
        "colab": {}
      },
      "source": [
        "a[1,5] = 20\n",
        "\n",
        "a[:,2] = [1,2]\n",
        "print(a)"
      ],
      "execution_count": 0,
      "outputs": []
    },
    {
      "cell_type": "code",
      "metadata": {
        "id": "dnd9aCb60fNk",
        "colab_type": "code",
        "colab": {}
      },
      "source": [
        "# 3-d example\n",
        "b = np.array([[[1,2],[3,4]],[[5,6],[7,8]]])\n",
        "print(b)"
      ],
      "execution_count": 0,
      "outputs": []
    },
    {
      "cell_type": "code",
      "metadata": {
        "id": "eISq4s2X0k9V",
        "colab_type": "code",
        "colab": {}
      },
      "source": [
        "# Get specific element (work outside in)\n",
        "b[0,1,1]"
      ],
      "execution_count": 0,
      "outputs": []
    },
    {
      "cell_type": "code",
      "metadata": {
        "id": "3crMFueG0lhV",
        "colab_type": "code",
        "colab": {}
      },
      "source": [
        "# replace \n",
        "b[:,1,:] = [[9,9,9],[8,8]]"
      ],
      "execution_count": 0,
      "outputs": []
    },
    {
      "cell_type": "markdown",
      "metadata": {
        "id": "GWFVKWn00pUl",
        "colab_type": "text"
      },
      "source": [
        "# Initializing Different Types of Arrays"
      ]
    },
    {
      "cell_type": "code",
      "metadata": {
        "id": "YdRSumvB0rjV",
        "colab_type": "code",
        "colab": {}
      },
      "source": [
        "# All 0s matrix\n",
        "np.zeros((2,3))"
      ],
      "execution_count": 0,
      "outputs": []
    },
    {
      "cell_type": "code",
      "metadata": {
        "id": "_C0PmT7E0tp1",
        "colab_type": "code",
        "colab": {}
      },
      "source": [
        "# All 1s matrix\n",
        "np.ones((4,2,2), dtype='int32')"
      ],
      "execution_count": 0,
      "outputs": []
    },
    {
      "cell_type": "code",
      "metadata": {
        "id": "vv1orUIK0vFN",
        "colab_type": "code",
        "colab": {}
      },
      "source": [
        "# Any other number\n",
        "np.full((2,2), 99)"
      ],
      "execution_count": 0,
      "outputs": []
    },
    {
      "cell_type": "code",
      "metadata": {
        "id": "xqGU8CHl0wzF",
        "colab_type": "code",
        "colab": {}
      },
      "source": [
        "# Any other number (full_like)\n",
        "np.full_like(a, 4)"
      ],
      "execution_count": 0,
      "outputs": []
    },
    {
      "cell_type": "code",
      "metadata": {
        "id": "anoiKIUk0yhV",
        "colab_type": "code",
        "colab": {}
      },
      "source": [
        "# Random decimal numbers\n",
        "np.random.rand(4,2)"
      ],
      "execution_count": 0,
      "outputs": []
    },
    {
      "cell_type": "code",
      "metadata": {
        "id": "2HSyJOv901De",
        "colab_type": "code",
        "colab": {}
      },
      "source": [
        "# Random Integer values\n",
        "np.random.randint(-4,8, size=(3,3))"
      ],
      "execution_count": 0,
      "outputs": []
    },
    {
      "cell_type": "code",
      "metadata": {
        "id": "hZ_whMGl02qO",
        "colab_type": "code",
        "colab": {}
      },
      "source": [
        "# The identity matrix\n",
        "np.identity(5)"
      ],
      "execution_count": 0,
      "outputs": []
    },
    {
      "cell_type": "code",
      "metadata": {
        "id": "yRaIECB504Oe",
        "colab_type": "code",
        "colab": {}
      },
      "source": [
        "# Repeat an array\n",
        "arr = np.array([[1,2,3]])\n",
        "r1 = np.repeat(arr,3, axis=0)\n",
        "print(r1)"
      ],
      "execution_count": 0,
      "outputs": []
    },
    {
      "cell_type": "code",
      "metadata": {
        "id": "UwbRnkKD05me",
        "colab_type": "code",
        "colab": {}
      },
      "source": [
        "output = np.ones((5,5))\n",
        "print(output)\n",
        "\n",
        "z = np.zeros((3,3))\n",
        "z[1,1] = 9\n",
        "print(z)\n",
        "\n",
        "output[1:-1,1:-1] = z\n",
        "print(output)"
      ],
      "execution_count": 0,
      "outputs": []
    },
    {
      "cell_type": "markdown",
      "metadata": {
        "id": "T0DeFvLw0_T1",
        "colab_type": "text"
      },
      "source": [
        "**Be careful when copying arrays!!!**"
      ]
    },
    {
      "cell_type": "code",
      "metadata": {
        "id": "X4SEjQFQ07r2",
        "colab_type": "code",
        "colab": {}
      },
      "source": [
        "a = np.array([1,2,3])\n",
        "b = a.copy()\n",
        "b[0] = 100\n",
        "\n",
        "print(a)"
      ],
      "execution_count": 0,
      "outputs": []
    },
    {
      "cell_type": "markdown",
      "metadata": {
        "id": "mgce02JT1C6g",
        "colab_type": "text"
      },
      "source": [
        "# Mathematics"
      ]
    },
    {
      "cell_type": "code",
      "metadata": {
        "id": "vT8q5vOc1Ew_",
        "colab_type": "code",
        "colab": {}
      },
      "source": [
        "a = np.array([1,2,3,4])\n",
        "print(a)"
      ],
      "execution_count": 0,
      "outputs": []
    },
    {
      "cell_type": "code",
      "metadata": {
        "id": "lFkL0U6G1Gm3",
        "colab_type": "code",
        "colab": {}
      },
      "source": [
        "a + 2\n",
        "a - 2\n",
        "a * 2\n",
        "a / 2"
      ],
      "execution_count": 0,
      "outputs": []
    },
    {
      "cell_type": "code",
      "metadata": {
        "id": "RXfcGy3I1Yg4",
        "colab_type": "code",
        "colab": {}
      },
      "source": [
        "b = np.array([1,0,1,0])\n",
        "a + b"
      ],
      "execution_count": 0,
      "outputs": []
    },
    {
      "cell_type": "code",
      "metadata": {
        "id": "MSj7-6BF1atQ",
        "colab_type": "code",
        "colab": {}
      },
      "source": [
        "a ** 2"
      ],
      "execution_count": 0,
      "outputs": []
    },
    {
      "cell_type": "code",
      "metadata": {
        "id": "92kvqAj21c1y",
        "colab_type": "code",
        "colab": {}
      },
      "source": [
        "# Take the sin\n",
        "np.cos(a)"
      ],
      "execution_count": 0,
      "outputs": []
    },
    {
      "cell_type": "markdown",
      "metadata": {
        "id": "kzlYWGcZ1jMq",
        "colab_type": "text"
      },
      "source": [
        "**Linear Algebra**"
      ]
    },
    {
      "cell_type": "code",
      "metadata": {
        "id": "RbRYmUqA1kXh",
        "colab_type": "code",
        "colab": {}
      },
      "source": [
        "a = np.ones((2,3))\n",
        "print(a)\n",
        "\n",
        "b = np.full((3,2), 2)\n",
        "print(b)\n",
        "\n",
        "np.matmul(a,b)"
      ],
      "execution_count": 0,
      "outputs": []
    },
    {
      "cell_type": "code",
      "metadata": {
        "id": "ZvJvcJd-1mYx",
        "colab_type": "code",
        "colab": {}
      },
      "source": [
        "# Find the determinant\n",
        "c = np.identity(3)\n",
        "np.linalg.det(c)"
      ],
      "execution_count": 0,
      "outputs": []
    },
    {
      "cell_type": "code",
      "metadata": {
        "id": "L-2qQwsv1vBC",
        "colab_type": "code",
        "colab": {}
      },
      "source": [
        "## Reference docs (https://docs.scipy.org/doc/numpy/reference/routines.linalg.html)\n",
        "\n",
        "# Determinant\n",
        "# Trace\n",
        "# Singular Vector Decomposition\n",
        "# Eigenvalues\n",
        "# Matrix Norm\n",
        "# Inverse\n",
        "# Etc..."
      ],
      "execution_count": 0,
      "outputs": []
    },
    {
      "cell_type": "markdown",
      "metadata": {
        "id": "7fzOjvDk3gSB",
        "colab_type": "text"
      },
      "source": [
        "# Statistics"
      ]
    },
    {
      "cell_type": "code",
      "metadata": {
        "id": "wyxMDYiN3hwW",
        "colab_type": "code",
        "colab": {}
      },
      "source": [
        "stats = np.array([[1,2,3],[4,5,6]])\n",
        "stats"
      ],
      "execution_count": 0,
      "outputs": []
    },
    {
      "cell_type": "code",
      "metadata": {
        "id": "WSdfJwCj3jbg",
        "colab_type": "code",
        "colab": {}
      },
      "source": [
        "np.min(stats)"
      ],
      "execution_count": 0,
      "outputs": []
    },
    {
      "cell_type": "code",
      "metadata": {
        "id": "izsX4GIt3lIO",
        "colab_type": "code",
        "colab": {}
      },
      "source": [
        "np.max(stats, axis=1)"
      ],
      "execution_count": 0,
      "outputs": []
    },
    {
      "cell_type": "code",
      "metadata": {
        "id": "tSshEGSy3m9m",
        "colab_type": "code",
        "colab": {}
      },
      "source": [
        "np.sum(stats, axis=0)"
      ],
      "execution_count": 0,
      "outputs": []
    },
    {
      "cell_type": "markdown",
      "metadata": {
        "id": "vgZgrDub3otm",
        "colab_type": "text"
      },
      "source": [
        "# Reorganizing Arrays"
      ]
    },
    {
      "cell_type": "code",
      "metadata": {
        "id": "CkGN0wAE3q6m",
        "colab_type": "code",
        "colab": {}
      },
      "source": [
        "before = np.array([[1,2,3,4],[5,6,7,8]])\n",
        "print(before)\n",
        "\n",
        "after = before.reshape((2,3))\n",
        "print(after)"
      ],
      "execution_count": 0,
      "outputs": []
    },
    {
      "cell_type": "code",
      "metadata": {
        "id": "8tkYV6nT3ss2",
        "colab_type": "code",
        "colab": {}
      },
      "source": [
        "# Vertically stacking vectors\n",
        "v1 = np.array([1,2,3,4])\n",
        "v2 = np.array([5,6,7,8])\n",
        "\n",
        "np.vstack([v1,v2,v1,v2])"
      ],
      "execution_count": 0,
      "outputs": []
    },
    {
      "cell_type": "code",
      "metadata": {
        "id": "C-5TUOpi3uRn",
        "colab_type": "code",
        "colab": {}
      },
      "source": [
        "# Horizontal  stack\n",
        "h1 = np.ones((2,4))\n",
        "h2 = np.zeros((2,2))\n",
        "\n",
        "np.hstack((h1,h2))"
      ],
      "execution_count": 0,
      "outputs": []
    },
    {
      "cell_type": "markdown",
      "metadata": {
        "id": "qe2FiUDL3wM3",
        "colab_type": "text"
      },
      "source": [
        "# Miscellaneous\n",
        "\n",
        "**Load Data from File**"
      ]
    },
    {
      "cell_type": "code",
      "metadata": {
        "id": "OWew4MBg30Df",
        "colab_type": "code",
        "colab": {}
      },
      "source": [
        "filedata = np.genfromtxt('data.txt', delimiter=',')\n",
        "filedata = filedata.astype('int32')\n",
        "print(filedata)"
      ],
      "execution_count": 0,
      "outputs": []
    },
    {
      "cell_type": "markdown",
      "metadata": {
        "id": "w5SheVK131_A",
        "colab_type": "text"
      },
      "source": [
        "**Boolean Masking and Advanced Indexing**"
      ]
    },
    {
      "cell_type": "code",
      "metadata": {
        "id": "ddIh-8Nj36Xu",
        "colab_type": "code",
        "colab": {}
      },
      "source": [
        "(~((filedata > 50) & (filedata < 100)))"
      ],
      "execution_count": 0,
      "outputs": []
    }
  ]
}